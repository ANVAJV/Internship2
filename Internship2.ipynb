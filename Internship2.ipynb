{
  "nbformat": 4,
  "nbformat_minor": 0,
  "metadata": {
    "colab": {
      "provenance": []
    },
    "kernelspec": {
      "name": "python3",
      "display_name": "Python 3"
    },
    "language_info": {
      "name": "python"
    }
  },
  "cells": [
    {
      "cell_type": "code",
      "execution_count": null,
      "metadata": {
        "id": "GKIN0hfTV-ct"
      },
      "outputs": [],
      "source": [
        "#PROJECT: Video Analysis Application Development"
      ]
    },
    {
      "cell_type": "code",
      "source": [
        "#WEEK 1"
      ],
      "metadata": {
        "id": "PG1w5_bPlTBC"
      },
      "execution_count": null,
      "outputs": []
    },
    {
      "cell_type": "code",
      "source": [
        "#The scope and goals of the project"
      ],
      "metadata": {
        "id": "CmSbSQseWtQa"
      },
      "execution_count": null,
      "outputs": []
    },
    {
      "cell_type": "code",
      "source": [
        "#Scenario: Sara is a football coach and her team has recently qualified for semi-finals of a most\n",
        "prestigious match of the country. She wants to plan the strategy for the next game based on the\n",
        "video analysis done on the games of the opponent team. Sara has identified three scenarios to be\n",
        "analysed – ‘Goal moments’, ‘Happy moments’, ‘Loss moments’. The analysis would help to learn\n",
        "about the techniques and strategy of the opponent team and hence decide on the strategy for her\n",
        "own team."
      ],
      "metadata": {
        "id": "Z5hS4ZU8WtoQ"
      },
      "execution_count": null,
      "outputs": []
    },
    {
      "cell_type": "code",
      "source": [
        "#Review existing video analysis applications and techniques."
      ],
      "metadata": {
        "id": "G1IETEzdWtrC"
      },
      "execution_count": null,
      "outputs": []
    },
    {
      "cell_type": "code",
      "source": [
        "#Critical incident technique and machine learning techniques"
      ],
      "metadata": {
        "id": "KXef9M0KWtum"
      },
      "execution_count": null,
      "outputs": []
    },
    {
      "cell_type": "code",
      "source": [
        "#Define the overall architecture and technologies to be used."
      ],
      "metadata": {
        "id": "kHqQuUPmXnAk"
      },
      "execution_count": null,
      "outputs": []
    },
    {
      "cell_type": "code",
      "source": [
        "#WEEK 2"
      ],
      "metadata": {
        "id": "RyAMm5tAlVtH"
      },
      "execution_count": null,
      "outputs": []
    },
    {
      "cell_type": "code",
      "source": [
        "Step 1\n",
        "#Video to image conversion"
      ],
      "metadata": {
        "id": "3w72HhpiXnK9"
      },
      "execution_count": null,
      "outputs": []
    },
    {
      "cell_type": "code",
      "source": [
        "# Importing all necessary libraries\n",
        "import cv2\n",
        "import os\n",
        "\n",
        "# Read the video from specified path\n",
        "cam = cv2.VideoCapture(\"/content/VID_20240131_182832_023.mp4\")\n",
        "\n",
        "try:\n",
        "\n",
        "    # creating a folder named data\n",
        "    if not os.path.exists('data'):\n",
        "        os.makedirs('data')\n",
        "\n",
        "# if not created then raise error\n",
        "except OSError:\n",
        "    print ('Error: Creating directory of data')\n",
        "\n",
        "# frame\n",
        "currentframe = 0\n",
        "\n",
        "while(True):\n",
        "\n",
        "    # reading from frame\n",
        "    ret,frame = cam.read()\n",
        "\n",
        "    if ret:\n",
        "        # if video is still left continue creating images\n",
        "        name = './data/frame' + str(currentframe) + '.jpg'\n",
        "        print ('Creating...' + name)\n",
        "\n",
        "        # writing the extracted images\n",
        "        cv2.imwrite(name, frame)\n",
        "\n",
        "        # increasing counter so that it will\n",
        "        # show how many frames are created\n",
        "        currentframe += 1\n",
        "    else:\n",
        "        break\n",
        "\n",
        "# Release all space and windows once done\n",
        "cam.release()\n",
        "cv2.destroyAllWindows()"
      ],
      "metadata": {
        "id": "LQ6t3i6RakJo"
      },
      "execution_count": 1,
      "outputs": []
    },
    {
      "cell_type": "code",
      "source": [
        "from google.colab import drive\n",
        "drive.mount('/content/drive')"
      ],
      "metadata": {
        "colab": {
          "base_uri": "https://localhost:8080/"
        },
        "id": "D_RmVoQ-l5d_",
        "outputId": "672e8951-0afb-4cdc-aeb6-6c5d31aab5f2"
      },
      "execution_count": 2,
      "outputs": [
        {
          "output_type": "stream",
          "name": "stdout",
          "text": [
            "Mounted at /content/drive\n"
          ]
        }
      ]
    },
    {
      "cell_type": "code",
      "source": [],
      "metadata": {
        "id": "CzmYlJQpaqBX"
      },
      "execution_count": null,
      "outputs": []
    },
    {
      "cell_type": "code",
      "source": [
        "#Importing Libraries"
      ],
      "metadata": {
        "id": "Ma8h4_oUaqFB"
      },
      "execution_count": null,
      "outputs": []
    },
    {
      "cell_type": "code",
      "source": [
        "import numpy as np\n",
        "import cv2\n",
        "import tensorflow as tf\n"
      ],
      "metadata": {
        "id": "XL6BKieyqWBZ"
      },
      "execution_count": 3,
      "outputs": []
    },
    {
      "cell_type": "code",
      "source": [],
      "metadata": {
        "id": "2Pq7evjiq1ze"
      },
      "execution_count": null,
      "outputs": []
    }
  ]
}